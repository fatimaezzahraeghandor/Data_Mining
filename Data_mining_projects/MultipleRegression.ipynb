{
 "cells": [
  {
   "cell_type": "code",
   "execution_count": 4,
   "id": "2e64521d",
   "metadata": {},
   "outputs": [],
   "source": [
    "import numpy as np\n",
    "import matplotlib as mpl\n",
    "from mpl_toolkits.mplot3d import Axes3D\n",
    "import matplotlib.pyplot as plt\n",
    "from sklearn.datasets import make_regression\n",
    "import pandas as pd"
   ]
  },
  {
   "cell_type": "code",
   "execution_count": 6,
   "id": "57e6601d",
   "metadata": {},
   "outputs": [
    {
     "ename": "NameError",
     "evalue": "name 'pd' is not defined",
     "output_type": "error",
     "traceback": [
      "\u001b[1;31m---------------------------------------------------------------------------\u001b[0m",
      "\u001b[1;31mNameError\u001b[0m                                 Traceback (most recent call last)",
      "\u001b[1;32m~\\AppData\\Local\\Temp/ipykernel_18292/2539091712.py\u001b[0m in \u001b[0;36m<module>\u001b[1;34m\u001b[0m\n\u001b[1;32m----> 1\u001b[1;33m \u001b[0mdata\u001b[0m \u001b[1;33m=\u001b[0m \u001b[0mpd\u001b[0m\u001b[1;33m.\u001b[0m\u001b[0mread_csv\u001b[0m\u001b[1;33m(\u001b[0m\u001b[1;34m\"appartement.csv\"\u001b[0m\u001b[1;33m,\u001b[0m\u001b[0msep\u001b[0m\u001b[1;33m=\u001b[0m\u001b[1;34m\";\"\u001b[0m\u001b[1;33m)\u001b[0m\u001b[1;33m\u001b[0m\u001b[1;33m\u001b[0m\u001b[0m\n\u001b[0m\u001b[0;32m      2\u001b[0m \u001b[0mx\u001b[0m \u001b[1;33m=\u001b[0m  \u001b[0mdata\u001b[0m\u001b[1;33m.\u001b[0m\u001b[0miloc\u001b[0m\u001b[1;33m[\u001b[0m\u001b[1;33m:\u001b[0m\u001b[1;33m,\u001b[0m\u001b[1;33m:\u001b[0m\u001b[1;36m1\u001b[0m\u001b[1;33m]\u001b[0m\u001b[1;33m.\u001b[0m\u001b[0mvalues\u001b[0m\u001b[1;33m\u001b[0m\u001b[1;33m\u001b[0m\u001b[0m\n\u001b[0;32m      3\u001b[0m \u001b[0my\u001b[0m \u001b[1;33m=\u001b[0m  \u001b[0mdata\u001b[0m\u001b[1;33m.\u001b[0m\u001b[0miloc\u001b[0m\u001b[1;33m[\u001b[0m\u001b[1;33m:\u001b[0m\u001b[1;33m,\u001b[0m\u001b[1;33m-\u001b[0m\u001b[1;36m1\u001b[0m\u001b[1;33m]\u001b[0m\u001b[1;33m.\u001b[0m\u001b[0mvalues\u001b[0m\u001b[1;33m\u001b[0m\u001b[1;33m\u001b[0m\u001b[0m\n\u001b[0;32m      4\u001b[0m \u001b[1;31m#Xmoy = np.mean(x)\u001b[0m\u001b[1;33m\u001b[0m\u001b[1;33m\u001b[0m\u001b[0m\n\u001b[0;32m      5\u001b[0m \u001b[1;31m#Ymoy = np.mean(y)\u001b[0m\u001b[1;33m\u001b[0m\u001b[1;33m\u001b[0m\u001b[0m\n",
      "\u001b[1;31mNameError\u001b[0m: name 'pd' is not defined"
     ]
    }
   ],
   "source": [
    "data = pd.read_csv(\"appartement.csv\",sep=\";\")\n",
    "x =  data.iloc[:,:1].values\n",
    "y =  data.iloc[:,-1].values \n",
    "#Xmoy = np.mean(x)\n",
    "#Ymoy = np.mean(y)\n",
    "#w0 = Ymoy-Xmoy.dot(x)\n",
    "#w1 = np.sum((y-Ymoy)*(x-Xmoy))/np.sum((x-Xmoy)**2)\n",
    "#print(\"w0 = \",w0,\"w1 = \",w1)\n",
    "x = (x-np.mean(x))/np.std(x)\n",
    "y = (y-np.mean(y))/np.std(y)\n"
   ]
  },
  {
   "cell_type": "code",
   "execution_count": 2,
   "id": "504077b1",
   "metadata": {},
   "outputs": [
    {
     "ename": "NameError",
     "evalue": "name 'mpl' is not defined",
     "output_type": "error",
     "traceback": [
      "\u001b[1;31m---------------------------------------------------------------------------\u001b[0m",
      "\u001b[1;31mNameError\u001b[0m                                 Traceback (most recent call last)",
      "\u001b[1;32m~\\AppData\\Local\\Temp/ipykernel_18292/2267544726.py\u001b[0m in \u001b[0;36m<module>\u001b[1;34m\u001b[0m\n\u001b[1;32m----> 1\u001b[1;33m \u001b[0mmpl\u001b[0m\u001b[1;33m.\u001b[0m\u001b[0mrcParams\u001b[0m\u001b[1;33m[\u001b[0m\u001b[1;34m'legend.fontsize'\u001b[0m\u001b[1;33m]\u001b[0m \u001b[1;33m=\u001b[0m \u001b[1;36m12\u001b[0m\u001b[1;33m\u001b[0m\u001b[1;33m\u001b[0m\u001b[0m\n\u001b[0m\u001b[0;32m      2\u001b[0m \u001b[1;33m\u001b[0m\u001b[0m\n\u001b[0;32m      3\u001b[0m \u001b[0mfig\u001b[0m \u001b[1;33m=\u001b[0m \u001b[0mplt\u001b[0m\u001b[1;33m.\u001b[0m\u001b[0mfigure\u001b[0m\u001b[1;33m(\u001b[0m\u001b[1;33m)\u001b[0m\u001b[1;33m\u001b[0m\u001b[1;33m\u001b[0m\u001b[0m\n\u001b[0;32m      4\u001b[0m \u001b[0max\u001b[0m \u001b[1;33m=\u001b[0m \u001b[0mfig\u001b[0m\u001b[1;33m.\u001b[0m\u001b[0mgca\u001b[0m\u001b[1;33m(\u001b[0m\u001b[0mprojection\u001b[0m \u001b[1;33m=\u001b[0m\u001b[1;34m'3d'\u001b[0m\u001b[1;33m)\u001b[0m\u001b[1;33m\u001b[0m\u001b[1;33m\u001b[0m\u001b[0m\n\u001b[0;32m      5\u001b[0m \u001b[1;33m\u001b[0m\u001b[0m\n",
      "\u001b[1;31mNameError\u001b[0m: name 'mpl' is not defined"
     ]
    }
   ],
   "source": [
    "mpl.rcParams['legend.fontsize'] = 12\n",
    " \n",
    "fig = plt.figure()\n",
    "ax = fig.gca(projection ='3d')\n",
    "\n",
    "ax.scatter(x[:, 0], x[:, 1], y, label ='y', s = 5)\n",
    "ax.legend()\n",
    "ax.view_init(45, 0)\n",
    " \n",
    "plt.show()"
   ]
  },
  {
   "cell_type": "code",
   "execution_count": 116,
   "id": "6dee31c5",
   "metadata": {},
   "outputs": [],
   "source": []
  },
  {
   "cell_type": "code",
   "execution_count": 139,
   "id": "cc080197",
   "metadata": {},
   "outputs": [
    {
     "name": "stdout",
     "output_type": "stream",
     "text": [
      "(40, 4)\n",
      "[[ 0.91180311 -0.87572916  1.          1.        ]\n",
      " [ 0.48299956 -0.87572916  1.          1.        ]\n",
      " [ 1.16364012 -0.87572916  1.          1.        ]\n",
      " [ 0.32645223 -0.87657996  1.          1.        ]\n",
      " [ 1.67412054 -0.87487836  1.          1.        ]\n",
      " [ 0.81055783 -0.87487836  1.          1.        ]\n",
      " [ 0.42684671 -0.87572916  1.          1.        ]\n",
      " [ 0.33581104 -0.87572916  1.          1.        ]\n",
      " [ 0.2958234  -0.87572916  1.          1.        ]\n",
      " [ 0.39281468 -0.87572916  1.          1.        ]\n",
      " [ 0.7722718  -0.87487836  1.          1.        ]\n",
      " [ 0.82331984 -0.87572916  1.          1.        ]\n",
      " [ 0.72973176 -0.87572916  1.          1.        ]\n",
      " [ 2.93160397 -0.87402756  1.          1.        ]\n",
      " [ 0.20053373 -0.87572916  1.          1.        ]\n",
      " [ 1.07856005 -0.87487836  1.          1.        ]\n",
      " [ 0.24477536 -0.87657996  1.          1.        ]\n",
      " [ 0.1733081  -0.87572916  1.          1.        ]\n",
      " [ 1.34145746 -0.87487836  1.          1.        ]\n",
      " [ 1.70049536 -0.87487836  1.          1.        ]\n",
      " [ 0.62508327 -0.87572916  1.          1.        ]\n",
      " [ 0.72803016 -0.87657996  1.          1.        ]\n",
      " [ 0.48640276 -0.87572916  1.          1.        ]\n",
      " [ 0.79098941 -0.87487836  1.          1.        ]\n",
      " [ 2.43133316 -0.87572916  1.          1.        ]\n",
      " [ 0.05759921 -0.87572916  1.          1.        ]\n",
      " [ 0.36218586 -0.87572916  1.          1.        ]\n",
      " [ 1.27084101 -0.87572916  1.          1.        ]\n",
      " [ 0.99347998 -0.87572916  1.          1.        ]\n",
      " [ 1.36527988 -0.87572916  1.          1.        ]\n",
      " [ 0.68634093 -0.87657996  1.          1.        ]\n",
      " [-0.02748086 -0.87743076  1.          1.        ]\n",
      " [ 0.85735187 -0.87487836  1.          1.        ]\n",
      " [ 1.79068023 -0.87572916  1.          1.        ]\n",
      " [ 0.66251851 -0.87487836  1.          1.        ]\n",
      " [ 0.34431904 -0.87572916  1.          1.        ]\n",
      " [ 0.1758605  -0.87572916  1.          1.        ]\n",
      " [ 0.93562553 -0.87487836  1.          1.        ]\n",
      " [ 2.70784339 -0.87487836  1.          1.        ]\n",
      " [ 0.96114955 -0.87487836  1.          1.        ]]\n"
     ]
    }
   ],
   "source": [
    "X = np.hstack((x, np.ones((x.shape[0],2))))\n",
    "print(X.shape)\n",
    "print(X[:])"
   ]
  },
  {
   "cell_type": "code",
   "execution_count": 133,
   "id": "9deb49bf",
   "metadata": {},
   "outputs": [
    {
     "name": "stdout",
     "output_type": "stream",
     "text": [
      "(40, 3)\n",
      "[[ 0.39009522  1.          1.        ]\n",
      " [-0.14868243  1.          1.        ]\n",
      " [ 0.15226337  1.          1.        ]\n",
      " [-0.90220145  1.          1.        ]\n",
      " [ 1.46765052  1.          1.        ]\n",
      " [-0.37958713  1.          1.        ]\n",
      " [-0.26413478  1.          1.        ]\n",
      " [-1.15620433  1.          1.        ]\n",
      " [-1.05613792  1.          1.        ]\n",
      " [-0.8213848   1.          1.        ]\n",
      " [-0.84063456  1.          1.        ]\n",
      " [-0.01706674  1.          1.        ]\n",
      " [-0.14792044  1.          1.        ]\n",
      " [ 2.69914229  1.          1.        ]\n",
      " [-0.68746007  1.          1.        ]\n",
      " [ 0.7749364   1.          1.        ]\n",
      " [-0.37958713  1.          1.        ]\n",
      " [-1.14926949  1.          1.        ]\n",
      " [ 1.16053186  1.          1.        ]\n",
      " [ 1.92253279  1.          1.        ]\n",
      " [-0.74133784  1.          1.        ]\n",
      " [-0.72517451  1.          1.        ]\n",
      " [-0.81830608  1.          1.        ]\n",
      " [-0.68746007  1.          1.        ]\n",
      " [ 1.72934252  1.          1.        ]\n",
      " [-0.76442831  1.          1.        ]\n",
      " [ 0.88731002  1.          1.        ]\n",
      " [ 0.92194573  1.          1.        ]\n",
      " [ 0.96812667  1.          1.        ]\n",
      " [-0.37958713  1.          1.        ]\n",
      " [ 0.00525404  1.          1.        ]\n",
      " [-1.38017419  1.          1.        ]\n",
      " [-0.26413478  1.          1.        ]\n",
      " [ 1.77552346  1.          1.        ]\n",
      " [-0.48734266  1.          1.        ]\n",
      " [-0.76442831  1.          1.        ]\n",
      " [-0.91836478  1.          1.        ]\n",
      " [-0.03246039  1.          1.        ]\n",
      " [ 1.53769161  1.          1.        ]\n",
      " [-0.47887616  1.          1.        ]]\n"
     ]
    }
   ],
   "source": [
    "Y = np.hstack((y, np.ones((y.shape[0],2))))\n",
    "print(Y.shape)\n",
    "print(Y[:])"
   ]
  },
  {
   "cell_type": "code",
   "execution_count": 137,
   "id": "4d0cbf7b",
   "metadata": {},
   "outputs": [
    {
     "data": {
      "text/plain": [
       "array([[ 0.39009522,  1.        ,  1.        ],\n",
       "       [-0.14868243,  1.        ,  1.        ],\n",
       "       [ 0.15226337,  1.        ,  1.        ],\n",
       "       [-0.90220145,  1.        ,  1.        ],\n",
       "       [ 1.46765052,  1.        ,  1.        ],\n",
       "       [-0.37958713,  1.        ,  1.        ],\n",
       "       [-0.26413478,  1.        ,  1.        ],\n",
       "       [-1.15620433,  1.        ,  1.        ],\n",
       "       [-1.05613792,  1.        ,  1.        ],\n",
       "       [-0.8213848 ,  1.        ,  1.        ],\n",
       "       [-0.84063456,  1.        ,  1.        ],\n",
       "       [-0.01706674,  1.        ,  1.        ],\n",
       "       [-0.14792044,  1.        ,  1.        ],\n",
       "       [ 2.69914229,  1.        ,  1.        ],\n",
       "       [-0.68746007,  1.        ,  1.        ],\n",
       "       [ 0.7749364 ,  1.        ,  1.        ],\n",
       "       [-0.37958713,  1.        ,  1.        ],\n",
       "       [-1.14926949,  1.        ,  1.        ],\n",
       "       [ 1.16053186,  1.        ,  1.        ],\n",
       "       [ 1.92253279,  1.        ,  1.        ],\n",
       "       [-0.74133784,  1.        ,  1.        ],\n",
       "       [-0.72517451,  1.        ,  1.        ],\n",
       "       [-0.81830608,  1.        ,  1.        ],\n",
       "       [-0.68746007,  1.        ,  1.        ],\n",
       "       [ 1.72934252,  1.        ,  1.        ],\n",
       "       [-0.76442831,  1.        ,  1.        ],\n",
       "       [ 0.88731002,  1.        ,  1.        ],\n",
       "       [ 0.92194573,  1.        ,  1.        ],\n",
       "       [ 0.96812667,  1.        ,  1.        ],\n",
       "       [-0.37958713,  1.        ,  1.        ],\n",
       "       [ 0.00525404,  1.        ,  1.        ],\n",
       "       [-1.38017419,  1.        ,  1.        ],\n",
       "       [-0.26413478,  1.        ,  1.        ],\n",
       "       [ 1.77552346,  1.        ,  1.        ],\n",
       "       [-0.48734266,  1.        ,  1.        ],\n",
       "       [-0.76442831,  1.        ,  1.        ],\n",
       "       [-0.91836478,  1.        ,  1.        ],\n",
       "       [-0.03246039,  1.        ,  1.        ],\n",
       "       [ 1.53769161,  1.        ,  1.        ],\n",
       "       [-0.47887616,  1.        ,  1.        ]])"
      ]
     },
     "execution_count": 137,
     "metadata": {},
     "output_type": "execute_result"
    }
   ],
   "source": [
    "Y\n"
   ]
  },
  {
   "cell_type": "code",
   "execution_count": 120,
   "id": "bf2fa96b",
   "metadata": {},
   "outputs": [],
   "source": [
    "def mse(coef, X, Y):\n",
    "    return np.mean((np.dot(X, coef) - Y)**2)/2"
   ]
  },
  {
   "cell_type": "code",
   "execution_count": 111,
   "id": "b2b70ba2",
   "metadata": {},
   "outputs": [],
   "source": [
    "def gradients(coef, X, Y):\n",
    "    return np.mean(X.transpose()*(np.dot(X, coef) - Y), axis = 1)"
   ]
  },
  {
   "cell_type": "code",
   "execution_count": 135,
   "id": "d4d87aad",
   "metadata": {},
   "outputs": [],
   "source": [
    "def multilinear_regression(coef,X, Y, lr, b1 = 0.9, b2 = 0.999, epsilon = 1e-8):\n",
    "    prev_error = 0\n",
    "    m_coef = np.zeros(coef.shape)\n",
    "    v_coef = np.zeros(coef.shape)\n",
    "    moment_m_coef = np.zeros(coef.shape)\n",
    "    moment_v_coef = np.zeros(coef.shape)\n",
    "    t = 0\n",
    " \n",
    "    while True:\n",
    "        error = mse(coef, X, Y)\n",
    "        if abs(error - prev_error) <= epsilon:\n",
    "            break\n",
    "        prev_error = error\n",
    "        grad = gradients(coef, X, Y)\n",
    "        t += 1\n",
    "        m_coef = b1 * m_coef + (1-b1)*grad\n",
    "        v_coef = b2 * v_coef + (1-b2)*grad**2\n",
    "        moment_m_coef = m_coef / (1-b1**t)\n",
    "        moment_v_coef = v_coef / (1-b2**t)\n",
    " \n",
    "        delta = ((lr / moment_v_coef**0.5 + 1e-8) *\n",
    "                 (b1 * moment_m_coef + (1-b1)*grad/(1-b1**t)))\n",
    " \n",
    "        coef = np.subtract(coef, delta)\n",
    "    return coef"
   ]
  },
  {
   "cell_type": "code",
   "execution_count": 140,
   "id": "3122ddbf",
   "metadata": {},
   "outputs": [
    {
     "ename": "ValueError",
     "evalue": "shapes (40,4) and (3,) not aligned: 4 (dim 1) != 3 (dim 0)",
     "output_type": "error",
     "traceback": [
      "\u001b[1;31m---------------------------------------------------------------------------\u001b[0m",
      "\u001b[1;31mValueError\u001b[0m                                Traceback (most recent call last)",
      "\u001b[1;32m~\\AppData\\Local\\Temp/ipykernel_17720/1333460813.py\u001b[0m in \u001b[0;36m<module>\u001b[1;34m\u001b[0m\n\u001b[0;32m      1\u001b[0m \u001b[0mcoef\u001b[0m \u001b[1;33m=\u001b[0m \u001b[0mnp\u001b[0m\u001b[1;33m.\u001b[0m\u001b[0marray\u001b[0m\u001b[1;33m(\u001b[0m\u001b[1;33m[\u001b[0m\u001b[1;36m0\u001b[0m\u001b[1;33m,\u001b[0m\u001b[1;36m0\u001b[0m\u001b[1;33m,\u001b[0m\u001b[1;36m0\u001b[0m\u001b[1;33m]\u001b[0m\u001b[1;33m)\u001b[0m\u001b[1;33m\u001b[0m\u001b[1;33m\u001b[0m\u001b[0m\n\u001b[1;32m----> 2\u001b[1;33m \u001b[0mc\u001b[0m \u001b[1;33m=\u001b[0m \u001b[0mmultilinear_regression\u001b[0m\u001b[1;33m(\u001b[0m\u001b[0mcoef\u001b[0m\u001b[1;33m,\u001b[0m \u001b[0mX\u001b[0m\u001b[1;33m,\u001b[0m \u001b[0mY\u001b[0m\u001b[1;33m,\u001b[0m \u001b[1;36m1e-1\u001b[0m\u001b[1;33m)\u001b[0m\u001b[1;33m\u001b[0m\u001b[1;33m\u001b[0m\u001b[0m\n\u001b[0m",
      "\u001b[1;32m~\\AppData\\Local\\Temp/ipykernel_17720/2823007922.py\u001b[0m in \u001b[0;36mmultilinear_regression\u001b[1;34m(coef, X, Y, lr, b1, b2, epsilon)\u001b[0m\n\u001b[0;32m      8\u001b[0m \u001b[1;33m\u001b[0m\u001b[0m\n\u001b[0;32m      9\u001b[0m     \u001b[1;32mwhile\u001b[0m \u001b[1;32mTrue\u001b[0m\u001b[1;33m:\u001b[0m\u001b[1;33m\u001b[0m\u001b[1;33m\u001b[0m\u001b[0m\n\u001b[1;32m---> 10\u001b[1;33m         \u001b[0merror\u001b[0m \u001b[1;33m=\u001b[0m \u001b[0mmse\u001b[0m\u001b[1;33m(\u001b[0m\u001b[0mcoef\u001b[0m\u001b[1;33m,\u001b[0m \u001b[0mX\u001b[0m\u001b[1;33m,\u001b[0m \u001b[0mY\u001b[0m\u001b[1;33m)\u001b[0m\u001b[1;33m\u001b[0m\u001b[1;33m\u001b[0m\u001b[0m\n\u001b[0m\u001b[0;32m     11\u001b[0m         \u001b[1;32mif\u001b[0m \u001b[0mabs\u001b[0m\u001b[1;33m(\u001b[0m\u001b[0merror\u001b[0m \u001b[1;33m-\u001b[0m \u001b[0mprev_error\u001b[0m\u001b[1;33m)\u001b[0m \u001b[1;33m<=\u001b[0m \u001b[0mepsilon\u001b[0m\u001b[1;33m:\u001b[0m\u001b[1;33m\u001b[0m\u001b[1;33m\u001b[0m\u001b[0m\n\u001b[0;32m     12\u001b[0m             \u001b[1;32mbreak\u001b[0m\u001b[1;33m\u001b[0m\u001b[1;33m\u001b[0m\u001b[0m\n",
      "\u001b[1;32m~\\AppData\\Local\\Temp/ipykernel_17720/2716611816.py\u001b[0m in \u001b[0;36mmse\u001b[1;34m(coef, x, y)\u001b[0m\n\u001b[0;32m      1\u001b[0m \u001b[1;32mdef\u001b[0m \u001b[0mmse\u001b[0m\u001b[1;33m(\u001b[0m\u001b[0mcoef\u001b[0m\u001b[1;33m,\u001b[0m \u001b[0mx\u001b[0m\u001b[1;33m,\u001b[0m \u001b[0my\u001b[0m\u001b[1;33m)\u001b[0m\u001b[1;33m:\u001b[0m\u001b[1;33m\u001b[0m\u001b[1;33m\u001b[0m\u001b[0m\n\u001b[1;32m----> 2\u001b[1;33m     \u001b[1;32mreturn\u001b[0m \u001b[0mnp\u001b[0m\u001b[1;33m.\u001b[0m\u001b[0mmean\u001b[0m\u001b[1;33m(\u001b[0m\u001b[1;33m(\u001b[0m\u001b[0mnp\u001b[0m\u001b[1;33m.\u001b[0m\u001b[0mdot\u001b[0m\u001b[1;33m(\u001b[0m\u001b[0mx\u001b[0m\u001b[1;33m,\u001b[0m \u001b[0mcoef\u001b[0m\u001b[1;33m)\u001b[0m \u001b[1;33m-\u001b[0m \u001b[0my\u001b[0m\u001b[1;33m)\u001b[0m\u001b[1;33m**\u001b[0m\u001b[1;36m2\u001b[0m\u001b[1;33m)\u001b[0m\u001b[1;33m/\u001b[0m\u001b[1;36m2\u001b[0m\u001b[1;33m\u001b[0m\u001b[1;33m\u001b[0m\u001b[0m\n\u001b[0m",
      "\u001b[1;32m<__array_function__ internals>\u001b[0m in \u001b[0;36mdot\u001b[1;34m(*args, **kwargs)\u001b[0m\n",
      "\u001b[1;31mValueError\u001b[0m: shapes (40,4) and (3,) not aligned: 4 (dim 1) != 3 (dim 0)"
     ]
    }
   ],
   "source": [
    "coef = np.array([0,0,0])\n",
    "c = multilinear_regression(coef, X, Y, 1e-1)"
   ]
  },
  {
   "cell_type": "code",
   "execution_count": null,
   "id": "17e82db7",
   "metadata": {},
   "outputs": [],
   "source": []
  },
  {
   "cell_type": "code",
   "execution_count": null,
   "id": "e2774ff9",
   "metadata": {},
   "outputs": [],
   "source": []
  },
  {
   "cell_type": "code",
   "execution_count": null,
   "id": "ad26b86e",
   "metadata": {},
   "outputs": [],
   "source": []
  }
 ],
 "metadata": {
  "kernelspec": {
   "display_name": "Python 3 (ipykernel)",
   "language": "python",
   "name": "python3"
  },
  "language_info": {
   "codemirror_mode": {
    "name": "ipython",
    "version": 3
   },
   "file_extension": ".py",
   "mimetype": "text/x-python",
   "name": "python",
   "nbconvert_exporter": "python",
   "pygments_lexer": "ipython3",
   "version": "3.9.7"
  }
 },
 "nbformat": 4,
 "nbformat_minor": 5
}
