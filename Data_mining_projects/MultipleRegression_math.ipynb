{
 "cells": [
  {
   "cell_type": "code",
   "execution_count": 1,
   "id": "c65c5d31",
   "metadata": {},
   "outputs": [],
   "source": [
    "import pandas as pd\n",
    "import numpy as np"
   ]
  },
  {
   "cell_type": "code",
   "execution_count": 2,
   "id": "7c1e0be6",
   "metadata": {},
   "outputs": [],
   "source": [
    "data=pd.read_csv(\"appartement.csv\",sep=\";\")"
   ]
  },
  {
   "cell_type": "code",
   "execution_count": 3,
   "id": "051b53c6",
   "metadata": {},
   "outputs": [],
   "source": [
    "X=data.iloc[:,0:2].values\n",
    "Y=data.iloc[:,2].values"
   ]
  },
  {
   "cell_type": "code",
   "execution_count": 4,
   "id": "33fee410",
   "metadata": {},
   "outputs": [],
   "source": [
    "from sklearn.preprocessing import StandardScaler as Sc\n",
    "scaler=Sc()\n",
    "X=scaler.fit_transform(X)"
   ]
  },
  {
   "cell_type": "code",
   "execution_count": 5,
   "id": "8c4ccbb1",
   "metadata": {},
   "outputs": [],
   "source": [
    "Y=(Y-np.mean(Y))/np.std(Y)"
   ]
  },
  {
   "cell_type": "code",
   "execution_count": 6,
   "id": "3fcb1d56",
   "metadata": {},
   "outputs": [],
   "source": [
    "from sklearn.linear_model import LinearRegression as LR\n",
    "regL=LR()\n",
    "regL.fit(X,Y)\n",
    "Ypredict=regL.predict(X)"
   ]
  },
  {
   "cell_type": "code",
   "execution_count": 7,
   "id": "1cf806d5",
   "metadata": {},
   "outputs": [
    {
     "data": {
      "text/plain": [
       "array([ 0.87415809, -0.01682835])"
      ]
     },
     "execution_count": 7,
     "metadata": {},
     "output_type": "execute_result"
    }
   ],
   "source": [
    "regL.coef_"
   ]
  },
  {
   "cell_type": "code",
   "execution_count": 8,
   "id": "d5fffbab",
   "metadata": {},
   "outputs": [],
   "source": [
    "from sklearn.metrics import r2_score as R2\n",
    "r2=R2(Y,Ypredict)"
   ]
  },
  {
   "cell_type": "code",
   "execution_count": 9,
   "id": "efc070f9",
   "metadata": {},
   "outputs": [],
   "source": [
    "n=len(X[:,0])\n",
    "p=len(X[0,:])"
   ]
  },
  {
   "cell_type": "code",
   "execution_count": 10,
   "id": "181bacda",
   "metadata": {},
   "outputs": [],
   "source": [
    "R2_ajusté=1-((n-1)/(n-1-p))*(1-r2)"
   ]
  },
  {
   "cell_type": "code",
   "execution_count": 11,
   "id": "3c6dab3b",
   "metadata": {},
   "outputs": [
    {
     "name": "stdout",
     "output_type": "stream",
     "text": [
      "pour deux Variables  R2:  0.7482927592615941 R2 ajusté:  0.7346869624649235\n"
     ]
    }
   ],
   "source": [
    "print(\"pour deux Variables \",\"R2: \",r2,\"R2 ajusté: \", R2_ajusté)"
   ]
  },
  {
   "cell_type": "code",
   "execution_count": 12,
   "id": "a6fbf481",
   "metadata": {},
   "outputs": [
    {
     "name": "stdout",
     "output_type": "stream",
     "text": [
      "pour une seule Variable  R2:  0.7482927592615941 R2 ajusté:  0.7346869624649235\n"
     ]
    }
   ],
   "source": [
    "print(\"pour une seule Variable \",\"R2: \",r2,\"R2 ajusté: \", R2_ajusté)"
   ]
  },
  {
   "cell_type": "code",
   "execution_count": 21,
   "id": "6e638c84",
   "metadata": {},
   "outputs": [],
   "source": [
    "class MultiLR:\n",
    "    \n",
    "    def __init__(self):\n",
    "        self.coef_ = None\n",
    "        self.intercept_ = None\n",
    "        \n",
    "    def fit(self,X_train,y_train):\n",
    "        X_train = np.insert(X_train,0,1,axis=1)\n",
    "        \n",
    "        # calcuate the coeffs\n",
    "        omega = np.linalg.inv(np.dot(X_train.T,X_train)).dot(X_train.T).dot(y_train)\n",
    "        self.intercept_ = omega[0]\n",
    "        self.coef_ = omega[1:]\n",
    "    \n",
    "    def predict(self,X_test):\n",
    "        y_pred = np.dot(X_test,self.coef_) + self.intercept_\n",
    "        return y_pred"
   ]
  },
  {
   "cell_type": "code",
   "execution_count": 22,
   "id": "e8412a34",
   "metadata": {},
   "outputs": [],
   "source": [
    "lr = MultiLR()"
   ]
  },
  {
   "cell_type": "code",
   "execution_count": 23,
   "id": "82f78551",
   "metadata": {},
   "outputs": [],
   "source": [
    "lr.fit(X,Y)"
   ]
  },
  {
   "cell_type": "code",
   "execution_count": 24,
   "id": "39dc82d0",
   "metadata": {},
   "outputs": [
    {
     "data": {
      "text/plain": [
       "array([ 0.87415809, -0.01682835])"
      ]
     },
     "execution_count": 24,
     "metadata": {},
     "output_type": "execute_result"
    }
   ],
   "source": [
    "lr.coef_"
   ]
  },
  {
   "cell_type": "code",
   "execution_count": 25,
   "id": "be908333",
   "metadata": {},
   "outputs": [],
   "source": [
    "y_pred = lr.predict(X)"
   ]
  },
  {
   "cell_type": "code",
   "execution_count": 26,
   "id": "8c0f71dc",
   "metadata": {},
   "outputs": [
    {
     "data": {
      "text/plain": [
       "0.7482927592615941"
      ]
     },
     "execution_count": 26,
     "metadata": {},
     "output_type": "execute_result"
    }
   ],
   "source": [
    "from sklearn.metrics import r2_score\n",
    "r2_score(Y,Ypredict)\n"
   ]
  },
  {
   "cell_type": "code",
   "execution_count": null,
   "id": "a8426c83",
   "metadata": {},
   "outputs": [],
   "source": []
  }
 ],
 "metadata": {
  "kernelspec": {
   "display_name": "Python 3 (ipykernel)",
   "language": "python",
   "name": "python3"
  },
  "language_info": {
   "codemirror_mode": {
    "name": "ipython",
    "version": 3
   },
   "file_extension": ".py",
   "mimetype": "text/x-python",
   "name": "python",
   "nbconvert_exporter": "python",
   "pygments_lexer": "ipython3",
   "version": "3.9.7"
  }
 },
 "nbformat": 4,
 "nbformat_minor": 5
}
