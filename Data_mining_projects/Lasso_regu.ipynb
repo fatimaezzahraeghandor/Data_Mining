{
 "cells": [
  {
   "cell_type": "code",
   "execution_count": 139,
   "id": "1bbd1ad7",
   "metadata": {},
   "outputs": [],
   "source": [
    "import sklearn.datasets as dts\n",
    "import numpy as np\n",
    "import pandas as pd\n",
    "\n"
   ]
  },
  {
   "cell_type": "code",
   "execution_count": 140,
   "id": "cb8b5e06",
   "metadata": {},
   "outputs": [],
   "source": [
    "data=dts.load_diabetes()"
   ]
  },
  {
   "cell_type": "code",
   "execution_count": 141,
   "id": "48c08e0a",
   "metadata": {},
   "outputs": [],
   "source": [
    "X=pd.DataFrame(data.data,columns=data.feature_names)"
   ]
  },
  {
   "cell_type": "code",
   "execution_count": 142,
   "id": "e78c8d3e",
   "metadata": {},
   "outputs": [],
   "source": [
    "Y=pd.DataFrame(data.target,columns=[\"MEDV\"]) #### a expliquer\n",
    "Y=Y[\"MEDV\"]\n"
   ]
  },
  {
   "cell_type": "code",
   "execution_count": 143,
   "id": "3fc7e802",
   "metadata": {},
   "outputs": [],
   "source": [
    "Y=(Y-np.mean(Y))/np.std(Y)"
   ]
  },
  {
   "cell_type": "code",
   "execution_count": 144,
   "id": "eb47a1c9",
   "metadata": {},
   "outputs": [],
   "source": [
    "Y=Y.to_numpy() "
   ]
  },
  {
   "cell_type": "code",
   "execution_count": 145,
   "id": "c855fdae",
   "metadata": {},
   "outputs": [],
   "source": [
    "X=X.to_numpy() "
   ]
  },
  {
   "cell_type": "code",
   "execution_count": 146,
   "id": "ee2047a3",
   "metadata": {},
   "outputs": [],
   "source": [
    "from sklearn.model_selection import train_test_split as tts"
   ]
  },
  {
   "cell_type": "code",
   "execution_count": 147,
   "id": "f8cabcde",
   "metadata": {},
   "outputs": [],
   "source": [
    "Xtrain,Xtest,Ytrain,Ytest=tts(X,Y,test_size=20,random_state=40) ######### random_state ==== le choix sera aleatoire "
   ]
  },
  {
   "cell_type": "code",
   "execution_count": 148,
   "id": "e63f117f",
   "metadata": {},
   "outputs": [
    {
     "data": {
      "text/plain": [
       "LinearRegression()"
      ]
     },
     "execution_count": 148,
     "metadata": {},
     "output_type": "execute_result"
    }
   ],
   "source": [
    "from sklearn.linear_model import LinearRegression as LR\n",
    "\n",
    "regL=LR()\n",
    "regL.fit(Xtrain,Ytrain)"
   ]
  },
  {
   "cell_type": "code",
   "execution_count": 149,
   "id": "503e0745",
   "metadata": {},
   "outputs": [
    {
     "name": "stdout",
     "output_type": "stream",
     "text": [
      "[  0.14852011  -3.3305229    6.6820164    4.70734841 -11.58192945\n",
      "   6.8065852    1.52528418   2.53021013  10.01798256   0.5723796 ]\n"
     ]
    }
   ],
   "source": [
    "print(regL.coef_)"
   ]
  },
  {
   "cell_type": "code",
   "execution_count": 150,
   "id": "4d2ea615",
   "metadata": {},
   "outputs": [
    {
     "data": {
      "text/plain": [
       "-0.003038205294102297"
      ]
     },
     "execution_count": 150,
     "metadata": {},
     "output_type": "execute_result"
    }
   ],
   "source": [
    "regL.intercept_"
   ]
  },
  {
   "cell_type": "code",
   "execution_count": 151,
   "id": "58fa5295",
   "metadata": {},
   "outputs": [
    {
     "data": {
      "text/plain": [
       "1.1375869171535957"
      ]
     },
     "execution_count": 151,
     "metadata": {},
     "output_type": "execute_result"
    }
   ],
   "source": [
    "from sklearn.metrics import mean_squared_error as mse \n",
    "###erreur quadratique moyenne\n",
    "\n",
    "erreur_RL=mse(Ytest,regL.predict(Xtest))\n",
    "erreur_RL"
   ]
  },
  {
   "cell_type": "code",
   "execution_count": null,
   "id": "9516e21d",
   "metadata": {},
   "outputs": [],
   "source": []
  },
  {
   "cell_type": "code",
   "execution_count": null,
   "id": "b075b740",
   "metadata": {},
   "outputs": [],
   "source": []
  },
  {
   "cell_type": "code",
   "execution_count": null,
   "id": "caccb09f",
   "metadata": {},
   "outputs": [],
   "source": []
  },
  {
   "cell_type": "code",
   "execution_count": 152,
   "id": "47c47667",
   "metadata": {},
   "outputs": [],
   "source": [
    "import numpy as np\n",
    "  \n",
    "import pandas as pd\n",
    "  \n",
    "from sklearn.model_selection import train_test_split\n",
    "  \n",
    "import matplotlib.pyplot as plt\n",
    "  \n",
    "# Lasso Regression\n",
    "  \n",
    "class LassoRegression() :\n",
    "      \n",
    "    def __init__( self, learning_rate, iterations, l1_penality ) :\n",
    "          \n",
    "        self.learning_rate = learning_rate\n",
    "          \n",
    "        self.iterations = iterations\n",
    "          \n",
    "        self.l1_penality = l1_penality\n",
    "          \n",
    "    # Function for model training\n",
    "              \n",
    "    def fit( self, X, Y ) :\n",
    "          \n",
    "        # no_of_training_examples, no_of_features\n",
    "          \n",
    "        self.m, self.n = X.shape\n",
    "          \n",
    "        # weight initialization\n",
    "          \n",
    "        self.W = np.zeros( self.n )\n",
    "          \n",
    "        self.b = 0\n",
    "          \n",
    "        self.X = X\n",
    "          \n",
    "        self.Y = Y\n",
    "          \n",
    "        # gradient descent learning\n",
    "                  \n",
    "        for i in range( self.iterations ) :\n",
    "              \n",
    "            self.update_weights()\n",
    "              \n",
    "        return self\n",
    "      \n",
    "    # Helper function to update weights in gradient descent\n",
    "      \n",
    "    def update_weights( self ) :\n",
    "             \n",
    "        Y_pred = self.predict( self.X )\n",
    "          \n",
    "        # calculate gradients  \n",
    "          \n",
    "        dW = np.zeros( self.n )\n",
    "          \n",
    "        for j in range( self.n ) :\n",
    "              \n",
    "            if self.W[j] > 0 :\n",
    "                  \n",
    "                dW[j] = ( - ( 2 * ( self.X[:, j] ).dot( self.Y - Y_pred ) ) \n",
    "                           \n",
    "                         + self.l1_penality ) / self.m\n",
    "          \n",
    "            else :\n",
    "                  \n",
    "                dW[j] = ( - ( 2 * ( self.X[:, j] ).dot( self.Y - Y_pred ) ) \n",
    "                           \n",
    "                         - self.l1_penality ) / self.m\n",
    "  \n",
    "       \n",
    "        db = - 2 * np.sum( self.Y - Y_pred ) / self.m \n",
    "          \n",
    "        # update weights\n",
    "      \n",
    "        self.W = self.W - self.learning_rate * dW\n",
    "      \n",
    "        self.b = self.b - self.learning_rate * db\n",
    "          \n",
    "        return self\n",
    "      \n",
    "    # Hypothetical function  h( x ) \n",
    "      \n",
    "    def predict( self, X ) :\n",
    "      \n",
    "        return X.dot( self.W ) + self.b"
   ]
  },
  {
   "cell_type": "code",
   "execution_count": 153,
   "id": "e89c434d",
   "metadata": {},
   "outputs": [],
   "source": [
    "\n",
    "lmds=np.logspace(-4,4,50) ####pour les valeur de lambda ou bien alpha generer de 1à ala puissance -4 jusqu'a 10 a la puissance 4\n",
    "erreurs=[]\n",
    "ws=[]\n",
    "\n",
    "#reg=Ridge()\n",
    "reg=LassoRegression( iterations = 1000, learning_rate = 0.001, l1_penality = 500 )\n",
    "emin =1000\n",
    "w_optx=[]\n",
    "\n",
    "for lm in lmds:\n",
    "\n",
    "  reg.l1_penality=lm\n",
    "  reg.fit(Xtrain,Ytrain)\n",
    "  e=mse(Ytest,reg.predict(Xtest))\n",
    "  erreurs.append(e)\n",
    "  ws.append(reg.W)\n",
    "  if(e<emin):\n",
    "    emin=e\n",
    "    w_optx=reg.W\n",
    "\n"
   ]
  },
  {
   "cell_type": "code",
   "execution_count": 154,
   "id": "bb15d8ca",
   "metadata": {},
   "outputs": [
    {
     "data": {
      "image/png": "[encoded data removed]",
      "text/plain": [
       "<Figure size 432x288 with 1 Axes>"
      ]
     },
     "metadata": {
      "needs_background": "light"
     },
     "output_type": "display_data"
    }
   ],
   "source": [
    "import matplotlib.pyplot as ppt\n",
    "\n",
    "f=ppt.gca()\n",
    "f.plot(lmds,erreurs)\n",
    "f.set_xscale('log')"
   ]
  },
  {
   "cell_type": "code",
   "execution_count": 155,
   "id": "60e8c20c",
   "metadata": {},
   "outputs": [
    {
     "data": {
      "text/plain": [
       "array([ 0.01909819,  0.00392983,  0.00903047, -0.00250868,  0.0186696 ,\n",
       "        0.01518391,  0.00850099, -0.00670778,  0.00692278, -0.01138233])"
      ]
     },
     "execution_count": 155,
     "metadata": {},
     "output_type": "execute_result"
    }
   ],
   "source": [
    "reg.W"
   ]
  },
  {
   "cell_type": "code",
   "execution_count": 156,
   "id": "a2d98135",
   "metadata": {},
   "outputs": [
    {
     "data": {
      "text/plain": [
       "1.2242201269237003"
      ]
     },
     "execution_count": 156,
     "metadata": {},
     "output_type": "execute_result"
    }
   ],
   "source": [
    "emin"
   ]
  },
  {
   "cell_type": "code",
   "execution_count": null,
   "id": "e971051a",
   "metadata": {},
   "outputs": [],
   "source": []
  },
  {
   "cell_type": "code",
   "execution_count": null,
   "id": "11081f38",
   "metadata": {},
   "outputs": [],
   "source": []
  }
 ],
 "metadata": {
  "kernelspec": {
   "display_name": "Python 3 (ipykernel)",
   "language": "python",
   "name": "python3"
  },
  "language_info": {
   "codemirror_mode": {
    "name": "ipython",
    "version": 3
   },
   "file_extension": ".py",
   "mimetype": "text/x-python",
   "name": "python",
   "nbconvert_exporter": "python",
   "pygments_lexer": "ipython3",
   "version": "3.9.7"
  }
 },
 "nbformat": 4,
 "nbformat_minor": 5
}
